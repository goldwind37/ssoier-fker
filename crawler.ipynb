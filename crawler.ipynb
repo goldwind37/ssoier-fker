{
 "cells": [
  {
   "cell_type": "markdown",
   "metadata": {},
   "source": [
    "# 思路\n",
    "* 1.爬取正确提交的题号，提交ID，提交代码\n",
    "* 创建字典problem，存储题号:Str，提交ID:Str"
   ]
  },
  {
   "cell_type": "markdown",
   "metadata": {},
   "source": [
    "## Setup"
   ]
  },
  {
   "cell_type": "code",
   "execution_count": null,
   "metadata": {},
   "outputs": [],
   "source": [
    "!pip install -r .\\requirements.txt"
   ]
  },
  {
   "cell_type": "markdown",
   "metadata": {},
   "source": [
    "## 1.Problems"
   ]
  },
  {
   "cell_type": "code",
   "execution_count": 1,
   "metadata": {},
   "outputs": [],
   "source": [
    "problems = {}"
   ]
  },
  {
   "cell_type": "markdown",
   "metadata": {},
   "source": [
    "## 2.手动下载html文件，之后进行解析"
   ]
  },
  {
   "cell_type": "code",
   "execution_count": null,
   "metadata": {},
   "outputs": [],
   "source": [
    "import scrapy\n",
    "from lxml import etree\n",
    "\n",
    "p = 1\n",
    "\n",
    "while p <= 6:\n",
    "    with open('p%s.html' % str(p), 'r', encoding='utf-8') as f:\n",
    "        html = etree.HTML(f.read())\n",
    "    nums = html.xpath(\"/html/body/center/center/center[1]/table/tbody/tr/td[3]/a\")\n",
    "    ids = html.xpath(\"/html/body/center/center/center[1]/table/tbody/tr/td[2]\")\n",
    "    stats = html.xpath(\"/html/body/center/center/center[1]/table/tbody/tr/td[4]/strong/span/font\")\n",
    "    for num, id in zip(nums, ids):\n",
    "        problems[num.text] = id.text\n",
    "    p += 1\n",
    "print(problems)"
   ]
  },
  {
   "cell_type": "markdown",
   "metadata": {},
   "source": [
    "## 3.使用cookie访问，获取代码，并存储在txt中"
   ]
  },
  {
   "cell_type": "markdown",
   "metadata": {},
   "source": [
    "**获取cookies**"
   ]
  },
  {
   "cell_type": "code",
   "execution_count": 2,
   "metadata": {},
   "outputs": [],
   "source": [
    "from time import sleep\n",
    "import requests\n",
    "\n",
    "cookies = {\n",
    "    'PHPSESSID': '<value here>', # 会话ID\n",
    "    'status_pp': '<value here>', # 状态\n",
    "    'username': '<value here>', # 你的用户名\n",
    "    'password': '<value here>', # MD5编码过的密码\n",
    "    'status_sep': '<value here>', # 状态\n",
    "}\n",
    "\n",
    "cookiess = [\n",
    "    {\n",
    "        'name':'PHPSESSID',\n",
    "        'value':'<value here>'\n",
    "    },\n",
    "    {\n",
    "        'name':'status_pp',\n",
    "        'value':'<value here>'\n",
    "    },\n",
    "    {\n",
    "        'name':'username',\n",
    "        'value':'<value here>'\n",
    "    },\n",
    "    {\n",
    "        'name':'password',\n",
    "        'value':'<value here>'\n",
    "    },\n",
    "    {\n",
    "        'name':'status_sep',\n",
    "        'value':'<value here>'\n",
    "    }\n",
    "]\n",
    "headers = {\n",
    "    'Accept': 'text/html,application/xhtml+xml,application/xml;q=0.9,image/webp,image/apng,*/*;q=0.8,application/signed-exchange;v=b3;q=0.9',\n",
    "    'Accept-Language': 'zh-CN,zh;q=0.9,en;q=0.8,en-GB;q=0.7,en-US;q=0.6',\n",
    "    'Cache-Control': 'max-age=0',\n",
    "    # Requests sorts cookies= alphabetically\n",
    "    # 'Cookie': 'PHPSESSID=5c1njff09bdmvoo8pn3s2hv1s1; status_pp=0; username=majiayin06; password=018355c4412a063980b7877698063fa9e5914bc8; status_sep=1660212756.3304',\n",
    "    'Proxy-Connection': 'keep-alive',\n",
    "    'Upgrade-Insecure-Requests': '1',\n",
    "    'User-Agent': 'Mozilla/5.0 (Windows NT 10.0; Win64; x64) AppleWebKit/537.36 (KHTML, like Gecko) Chrome/104.0.5112.81 Safari/537.36 Edg/104.0.1293.47',\n",
    "}"
   ]
  },
  {
   "cell_type": "markdown",
   "metadata": {},
   "source": [
    "**爬取并存储** (这个不用运行)"
   ]
  },
  {
   "cell_type": "code",
   "execution_count": null,
   "metadata": {},
   "outputs": [],
   "source": [
    "for key in problems.keys():\n",
    "    params = {\n",
    "        'runid': problems[key],\n",
    "    }\n",
    "    response = requests.get('http://py.ssoier.cn:8088/show_source.php', params=params, cookies=cookies, headers=headers, verify=False)\n",
    "    html = etree.HTML(response.text)\n",
    "    codes = html.xpath('''//*[@id=\"abc123\"]''')\n",
    "    for code in codes:\n",
    "        with open(\"codes/%s.txt\" % str(key), 'w+') as f:\n",
    "            f.write(code.text)\n",
    "            print(code.text)\n",
    "    sleep(2)"
   ]
  },
  {
   "cell_type": "markdown",
   "metadata": {},
   "source": [
    "## 4.自动提交"
   ]
  },
  {
   "cell_type": "code",
   "execution_count": null,
   "metadata": {},
   "outputs": [],
   "source": [
    "import random\n",
    "from selenium import webdriver\n",
    "from selenium.webdriver.chrome.options import Options\n",
    "from time import sleep\n",
    "import re\n",
    "from random import randint\n",
    "\n",
    "def browser_init():\n",
    "    options = Options()\n",
    "    # options.binary_location = \"C:\\\\Program Files\\\\Google\\\\Chrome\\\\Application\\\\chrome.exe\"\n",
    "    browser = webdriver.Chrome(chrome_options = options, executable_path='./chromedriver.exe')\n",
    "    browser.find_element\n",
    "    return login(browser)\n",
    "\n",
    "def login(browser):\n",
    "    browser.get(\"http://py.ssoier.cn:8088/\")\n",
    "    for cooki in cookiess:\n",
    "        browser.add_cookie(cooki)\n",
    "    browser.refresh()\n",
    "    return browser\n",
    "\n",
    "def action(browser):\n",
    "    for key in problems.keys():\n",
    "        url = \"http://py.ssoier.cn:8088/submit.php?pid=%s\" % key\n",
    "        browser.get(url)\n",
    "        with open(\"codes/%s.txt\" % key, \"r\") as f:\n",
    "            browser.find_element(\"xpath\", \"/html/body/center/form/table/tbody/tr[3]/td/textarea\").send_keys(\n",
    "            '''%s''' % f.read()\n",
    "            )#利用xpath查找元素进行输入文本\n",
    "        browser.find_element(\"xpath\", \"/html/body/center/form/table/tbody/tr[3]/td/input[4]\").click()\n",
    "        sleep(40 + randint(0, 5))\n",
    "if __name__ == \"__main__\":\n",
    "    browser = browser_init()\n",
    "    action(browser)"
   ]
  }
 ],
 "metadata": {
  "kernelspec": {
   "display_name": "Python 3.9.12 ('base')",
   "language": "python",
   "name": "python3"
  },
  "language_info": {
   "codemirror_mode": {
    "name": "ipython",
    "version": 3
   },
   "file_extension": ".py",
   "mimetype": "text/x-python",
   "name": "python",
   "nbconvert_exporter": "python",
   "pygments_lexer": "ipython3",
   "version": "3.9.12"
  },
  "orig_nbformat": 4,
  "vscode": {
   "interpreter": {
    "hash": "7758e92e9a61d7a3490898707f7eeb937c85e9d1e8d4e877cc6c187218f226d5"
   }
  }
 },
 "nbformat": 4,
 "nbformat_minor": 2
}
